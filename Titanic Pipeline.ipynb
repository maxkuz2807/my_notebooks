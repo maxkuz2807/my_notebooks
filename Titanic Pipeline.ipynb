{
 "cells": [
  {
   "cell_type": "code",
   "execution_count": 1,
   "id": "frozen-panel",
   "metadata": {},
   "outputs": [],
   "source": [
    "import pandas as pd\n",
    "import numpy as np\n",
    "import seaborn as sns\n",
    "import matplotlib.pyplot as plt\n",
    "import re"
   ]
  },
  {
   "cell_type": "code",
   "execution_count": 2,
   "id": "aggregate-scoop",
   "metadata": {},
   "outputs": [],
   "source": [
    "np.set_printoptions(linewidth=100)"
   ]
  },
  {
   "cell_type": "code",
   "execution_count": 3,
   "id": "confirmed-interval",
   "metadata": {},
   "outputs": [],
   "source": [
    "train = pd.read_csv(r'C:\\Users\\Максим\\Desktop\\Аналитика данных\\Datasets\\titanic\\train.csv')\n",
    "test = pd.read_csv(r'C:\\Users\\Максим\\Desktop\\Аналитика данных\\Datasets\\titanic\\test.csv')\n",
    "submission = pd.read_csv(r'C:\\Users\\Максим\\Desktop\\Аналитика данных\\Datasets\\titanic\\gender_submission.csv')"
   ]
  },
  {
   "cell_type": "code",
   "execution_count": 4,
   "id": "worse-chorus",
   "metadata": {},
   "outputs": [],
   "source": [
    "cols = ['PassengerId', 'Survived', 'Pclass', 'Name', 'Sex', 'Age', 'SibSp',\n",
    "       'Parch', 'Ticket', 'Fare', 'Cabin', 'Embarked']"
   ]
  },
  {
   "cell_type": "code",
   "execution_count": 5,
   "id": "stopped-trademark",
   "metadata": {},
   "outputs": [
    {
     "data": {
      "text/html": [
       "<div>\n",
       "<style scoped>\n",
       "    .dataframe tbody tr th:only-of-type {\n",
       "        vertical-align: middle;\n",
       "    }\n",
       "\n",
       "    .dataframe tbody tr th {\n",
       "        vertical-align: top;\n",
       "    }\n",
       "\n",
       "    .dataframe thead th {\n",
       "        text-align: right;\n",
       "    }\n",
       "</style>\n",
       "<table border=\"1\" class=\"dataframe\">\n",
       "  <thead>\n",
       "    <tr style=\"text-align: right;\">\n",
       "      <th></th>\n",
       "      <th>PassengerId</th>\n",
       "      <th>Survived</th>\n",
       "      <th>Pclass</th>\n",
       "      <th>Name</th>\n",
       "      <th>Sex</th>\n",
       "      <th>Age</th>\n",
       "      <th>SibSp</th>\n",
       "      <th>Parch</th>\n",
       "      <th>Ticket</th>\n",
       "      <th>Fare</th>\n",
       "      <th>Cabin</th>\n",
       "      <th>Embarked</th>\n",
       "    </tr>\n",
       "  </thead>\n",
       "  <tbody>\n",
       "    <tr>\n",
       "      <th>0</th>\n",
       "      <td>1</td>\n",
       "      <td>0</td>\n",
       "      <td>3</td>\n",
       "      <td>Braund, Mr. Owen Harris</td>\n",
       "      <td>male</td>\n",
       "      <td>22.0</td>\n",
       "      <td>1</td>\n",
       "      <td>0</td>\n",
       "      <td>A/5 21171</td>\n",
       "      <td>7.2500</td>\n",
       "      <td>NaN</td>\n",
       "      <td>S</td>\n",
       "    </tr>\n",
       "    <tr>\n",
       "      <th>1</th>\n",
       "      <td>2</td>\n",
       "      <td>1</td>\n",
       "      <td>1</td>\n",
       "      <td>Cumings, Mrs. John Bradley (Florence Briggs Th...</td>\n",
       "      <td>female</td>\n",
       "      <td>38.0</td>\n",
       "      <td>1</td>\n",
       "      <td>0</td>\n",
       "      <td>PC 17599</td>\n",
       "      <td>71.2833</td>\n",
       "      <td>C85</td>\n",
       "      <td>C</td>\n",
       "    </tr>\n",
       "    <tr>\n",
       "      <th>2</th>\n",
       "      <td>3</td>\n",
       "      <td>1</td>\n",
       "      <td>3</td>\n",
       "      <td>Heikkinen, Miss. Laina</td>\n",
       "      <td>female</td>\n",
       "      <td>26.0</td>\n",
       "      <td>0</td>\n",
       "      <td>0</td>\n",
       "      <td>STON/O2. 3101282</td>\n",
       "      <td>7.9250</td>\n",
       "      <td>NaN</td>\n",
       "      <td>S</td>\n",
       "    </tr>\n",
       "    <tr>\n",
       "      <th>3</th>\n",
       "      <td>4</td>\n",
       "      <td>1</td>\n",
       "      <td>1</td>\n",
       "      <td>Futrelle, Mrs. Jacques Heath (Lily May Peel)</td>\n",
       "      <td>female</td>\n",
       "      <td>35.0</td>\n",
       "      <td>1</td>\n",
       "      <td>0</td>\n",
       "      <td>113803</td>\n",
       "      <td>53.1000</td>\n",
       "      <td>C123</td>\n",
       "      <td>S</td>\n",
       "    </tr>\n",
       "    <tr>\n",
       "      <th>4</th>\n",
       "      <td>5</td>\n",
       "      <td>0</td>\n",
       "      <td>3</td>\n",
       "      <td>Allen, Mr. William Henry</td>\n",
       "      <td>male</td>\n",
       "      <td>35.0</td>\n",
       "      <td>0</td>\n",
       "      <td>0</td>\n",
       "      <td>373450</td>\n",
       "      <td>8.0500</td>\n",
       "      <td>NaN</td>\n",
       "      <td>S</td>\n",
       "    </tr>\n",
       "  </tbody>\n",
       "</table>\n",
       "</div>"
      ],
      "text/plain": [
       "   PassengerId  Survived  Pclass  \\\n",
       "0            1         0       3   \n",
       "1            2         1       1   \n",
       "2            3         1       3   \n",
       "3            4         1       1   \n",
       "4            5         0       3   \n",
       "\n",
       "                                                Name     Sex   Age  SibSp  \\\n",
       "0                            Braund, Mr. Owen Harris    male  22.0      1   \n",
       "1  Cumings, Mrs. John Bradley (Florence Briggs Th...  female  38.0      1   \n",
       "2                             Heikkinen, Miss. Laina  female  26.0      0   \n",
       "3       Futrelle, Mrs. Jacques Heath (Lily May Peel)  female  35.0      1   \n",
       "4                           Allen, Mr. William Henry    male  35.0      0   \n",
       "\n",
       "   Parch            Ticket     Fare Cabin Embarked  \n",
       "0      0         A/5 21171   7.2500   NaN        S  \n",
       "1      0          PC 17599  71.2833   C85        C  \n",
       "2      0  STON/O2. 3101282   7.9250   NaN        S  \n",
       "3      0            113803  53.1000  C123        S  \n",
       "4      0            373450   8.0500   NaN        S  "
      ]
     },
     "execution_count": 5,
     "metadata": {},
     "output_type": "execute_result"
    }
   ],
   "source": [
    "train.head()"
   ]
  },
  {
   "cell_type": "code",
   "execution_count": 6,
   "id": "available-colombia",
   "metadata": {},
   "outputs": [
    {
     "data": {
      "text/html": [
       "<div>\n",
       "<style scoped>\n",
       "    .dataframe tbody tr th:only-of-type {\n",
       "        vertical-align: middle;\n",
       "    }\n",
       "\n",
       "    .dataframe tbody tr th {\n",
       "        vertical-align: top;\n",
       "    }\n",
       "\n",
       "    .dataframe thead th {\n",
       "        text-align: right;\n",
       "    }\n",
       "</style>\n",
       "<table border=\"1\" class=\"dataframe\">\n",
       "  <thead>\n",
       "    <tr style=\"text-align: right;\">\n",
       "      <th></th>\n",
       "      <th>PassengerId</th>\n",
       "      <th>Pclass</th>\n",
       "      <th>Name</th>\n",
       "      <th>Sex</th>\n",
       "      <th>Age</th>\n",
       "      <th>SibSp</th>\n",
       "      <th>Parch</th>\n",
       "      <th>Ticket</th>\n",
       "      <th>Fare</th>\n",
       "      <th>Cabin</th>\n",
       "      <th>Embarked</th>\n",
       "    </tr>\n",
       "  </thead>\n",
       "  <tbody>\n",
       "    <tr>\n",
       "      <th>0</th>\n",
       "      <td>892</td>\n",
       "      <td>3</td>\n",
       "      <td>Kelly, Mr. James</td>\n",
       "      <td>male</td>\n",
       "      <td>34.5</td>\n",
       "      <td>0</td>\n",
       "      <td>0</td>\n",
       "      <td>330911</td>\n",
       "      <td>7.8292</td>\n",
       "      <td>NaN</td>\n",
       "      <td>Q</td>\n",
       "    </tr>\n",
       "    <tr>\n",
       "      <th>1</th>\n",
       "      <td>893</td>\n",
       "      <td>3</td>\n",
       "      <td>Wilkes, Mrs. James (Ellen Needs)</td>\n",
       "      <td>female</td>\n",
       "      <td>47.0</td>\n",
       "      <td>1</td>\n",
       "      <td>0</td>\n",
       "      <td>363272</td>\n",
       "      <td>7.0000</td>\n",
       "      <td>NaN</td>\n",
       "      <td>S</td>\n",
       "    </tr>\n",
       "    <tr>\n",
       "      <th>2</th>\n",
       "      <td>894</td>\n",
       "      <td>2</td>\n",
       "      <td>Myles, Mr. Thomas Francis</td>\n",
       "      <td>male</td>\n",
       "      <td>62.0</td>\n",
       "      <td>0</td>\n",
       "      <td>0</td>\n",
       "      <td>240276</td>\n",
       "      <td>9.6875</td>\n",
       "      <td>NaN</td>\n",
       "      <td>Q</td>\n",
       "    </tr>\n",
       "    <tr>\n",
       "      <th>3</th>\n",
       "      <td>895</td>\n",
       "      <td>3</td>\n",
       "      <td>Wirz, Mr. Albert</td>\n",
       "      <td>male</td>\n",
       "      <td>27.0</td>\n",
       "      <td>0</td>\n",
       "      <td>0</td>\n",
       "      <td>315154</td>\n",
       "      <td>8.6625</td>\n",
       "      <td>NaN</td>\n",
       "      <td>S</td>\n",
       "    </tr>\n",
       "    <tr>\n",
       "      <th>4</th>\n",
       "      <td>896</td>\n",
       "      <td>3</td>\n",
       "      <td>Hirvonen, Mrs. Alexander (Helga E Lindqvist)</td>\n",
       "      <td>female</td>\n",
       "      <td>22.0</td>\n",
       "      <td>1</td>\n",
       "      <td>1</td>\n",
       "      <td>3101298</td>\n",
       "      <td>12.2875</td>\n",
       "      <td>NaN</td>\n",
       "      <td>S</td>\n",
       "    </tr>\n",
       "  </tbody>\n",
       "</table>\n",
       "</div>"
      ],
      "text/plain": [
       "   PassengerId  Pclass                                          Name     Sex  \\\n",
       "0          892       3                              Kelly, Mr. James    male   \n",
       "1          893       3              Wilkes, Mrs. James (Ellen Needs)  female   \n",
       "2          894       2                     Myles, Mr. Thomas Francis    male   \n",
       "3          895       3                              Wirz, Mr. Albert    male   \n",
       "4          896       3  Hirvonen, Mrs. Alexander (Helga E Lindqvist)  female   \n",
       "\n",
       "    Age  SibSp  Parch   Ticket     Fare Cabin Embarked  \n",
       "0  34.5      0      0   330911   7.8292   NaN        Q  \n",
       "1  47.0      1      0   363272   7.0000   NaN        S  \n",
       "2  62.0      0      0   240276   9.6875   NaN        Q  \n",
       "3  27.0      0      0   315154   8.6625   NaN        S  \n",
       "4  22.0      1      1  3101298  12.2875   NaN        S  "
      ]
     },
     "execution_count": 6,
     "metadata": {},
     "output_type": "execute_result"
    }
   ],
   "source": [
    "test.head()"
   ]
  },
  {
   "cell_type": "code",
   "execution_count": 7,
   "id": "extra-pendant",
   "metadata": {},
   "outputs": [
    {
     "data": {
      "text/html": [
       "<div>\n",
       "<style scoped>\n",
       "    .dataframe tbody tr th:only-of-type {\n",
       "        vertical-align: middle;\n",
       "    }\n",
       "\n",
       "    .dataframe tbody tr th {\n",
       "        vertical-align: top;\n",
       "    }\n",
       "\n",
       "    .dataframe thead th {\n",
       "        text-align: right;\n",
       "    }\n",
       "</style>\n",
       "<table border=\"1\" class=\"dataframe\">\n",
       "  <thead>\n",
       "    <tr style=\"text-align: right;\">\n",
       "      <th></th>\n",
       "      <th>PassengerId</th>\n",
       "      <th>Survived</th>\n",
       "    </tr>\n",
       "  </thead>\n",
       "  <tbody>\n",
       "    <tr>\n",
       "      <th>0</th>\n",
       "      <td>892</td>\n",
       "      <td>0</td>\n",
       "    </tr>\n",
       "    <tr>\n",
       "      <th>1</th>\n",
       "      <td>893</td>\n",
       "      <td>1</td>\n",
       "    </tr>\n",
       "    <tr>\n",
       "      <th>2</th>\n",
       "      <td>894</td>\n",
       "      <td>0</td>\n",
       "    </tr>\n",
       "    <tr>\n",
       "      <th>3</th>\n",
       "      <td>895</td>\n",
       "      <td>0</td>\n",
       "    </tr>\n",
       "    <tr>\n",
       "      <th>4</th>\n",
       "      <td>896</td>\n",
       "      <td>1</td>\n",
       "    </tr>\n",
       "  </tbody>\n",
       "</table>\n",
       "</div>"
      ],
      "text/plain": [
       "   PassengerId  Survived\n",
       "0          892         0\n",
       "1          893         1\n",
       "2          894         0\n",
       "3          895         0\n",
       "4          896         1"
      ]
     },
     "execution_count": 7,
     "metadata": {},
     "output_type": "execute_result"
    }
   ],
   "source": [
    "submission.head()"
   ]
  },
  {
   "cell_type": "code",
   "execution_count": 8,
   "id": "historic-mission",
   "metadata": {},
   "outputs": [
    {
     "data": {
      "text/plain": [
       "((891, 12), (418, 11))"
      ]
     },
     "execution_count": 8,
     "metadata": {},
     "output_type": "execute_result"
    }
   ],
   "source": [
    "train.shape, test.shape"
   ]
  },
  {
   "cell_type": "code",
   "execution_count": 9,
   "id": "amino-jenny",
   "metadata": {},
   "outputs": [
    {
     "name": "stdout",
     "output_type": "stream",
     "text": [
      "<class 'pandas.core.frame.DataFrame'>\n",
      "RangeIndex: 891 entries, 0 to 890\n",
      "Data columns (total 12 columns):\n",
      " #   Column       Non-Null Count  Dtype  \n",
      "---  ------       --------------  -----  \n",
      " 0   PassengerId  891 non-null    int64  \n",
      " 1   Survived     891 non-null    int64  \n",
      " 2   Pclass       891 non-null    int64  \n",
      " 3   Name         891 non-null    object \n",
      " 4   Sex          891 non-null    object \n",
      " 5   Age          714 non-null    float64\n",
      " 6   SibSp        891 non-null    int64  \n",
      " 7   Parch        891 non-null    int64  \n",
      " 8   Ticket       891 non-null    object \n",
      " 9   Fare         891 non-null    float64\n",
      " 10  Cabin        204 non-null    object \n",
      " 11  Embarked     889 non-null    object \n",
      "dtypes: float64(2), int64(5), object(5)\n",
      "memory usage: 83.7+ KB\n"
     ]
    }
   ],
   "source": [
    "train.info()"
   ]
  },
  {
   "cell_type": "code",
   "execution_count": 10,
   "id": "private-essex",
   "metadata": {},
   "outputs": [
    {
     "name": "stdout",
     "output_type": "stream",
     "text": [
      "<class 'pandas.core.frame.DataFrame'>\n",
      "RangeIndex: 418 entries, 0 to 417\n",
      "Data columns (total 11 columns):\n",
      " #   Column       Non-Null Count  Dtype  \n",
      "---  ------       --------------  -----  \n",
      " 0   PassengerId  418 non-null    int64  \n",
      " 1   Pclass       418 non-null    int64  \n",
      " 2   Name         418 non-null    object \n",
      " 3   Sex          418 non-null    object \n",
      " 4   Age          332 non-null    float64\n",
      " 5   SibSp        418 non-null    int64  \n",
      " 6   Parch        418 non-null    int64  \n",
      " 7   Ticket       418 non-null    object \n",
      " 8   Fare         417 non-null    float64\n",
      " 9   Cabin        91 non-null     object \n",
      " 10  Embarked     418 non-null    object \n",
      "dtypes: float64(2), int64(4), object(5)\n",
      "memory usage: 36.0+ KB\n"
     ]
    }
   ],
   "source": [
    "test.info()"
   ]
  },
  {
   "cell_type": "markdown",
   "id": "different-motorcycle",
   "metadata": {},
   "source": [
    "PassengerId — идентификатор пассажира <br>\n",
    "Survival — поле в котором указано спасся человек (1) или нет (0) <br>\n",
    "Pclass — содержит социально-экономический статус: <br>\n",
    "   высокий <br>\n",
    "   средний <br>\n",
    "   низкий <br>\n",
    "Name — имя пассажира <br>\n",
    "Sex — пол пассажира <br>\n",
    "Age — возраст <br>\n",
    "SibSp — содержит информацию о количестве родственников 2-го порядка (муж, жена, братья, сетры) <br>\n",
    "Parch — содержит информацию о количестве родственников на борту 1-го порядка (мать, отец, дети) <br>\n",
    "Ticket — номер билета <br>\n",
    "Fare — цена билета <br>\n",
    "Cabin — каюта <br>\n",
    "Embarked — порт посадки <br>\n",
    "   C — Cherbourg <br>\n",
    "   Q — Queenstown <br>\n",
    "   S — Southampton\n"
   ]
  },
  {
   "cell_type": "code",
   "execution_count": 11,
   "id": "fitting-trainer",
   "metadata": {},
   "outputs": [
    {
     "data": {
      "text/html": [
       "<div>\n",
       "<style scoped>\n",
       "    .dataframe tbody tr th:only-of-type {\n",
       "        vertical-align: middle;\n",
       "    }\n",
       "\n",
       "    .dataframe tbody tr th {\n",
       "        vertical-align: top;\n",
       "    }\n",
       "\n",
       "    .dataframe thead th {\n",
       "        text-align: right;\n",
       "    }\n",
       "</style>\n",
       "<table border=\"1\" class=\"dataframe\">\n",
       "  <thead>\n",
       "    <tr style=\"text-align: right;\">\n",
       "      <th></th>\n",
       "      <th>PassengerId</th>\n",
       "      <th>Survived</th>\n",
       "      <th>Pclass</th>\n",
       "      <th>Age</th>\n",
       "      <th>SibSp</th>\n",
       "      <th>Parch</th>\n",
       "      <th>Fare</th>\n",
       "    </tr>\n",
       "  </thead>\n",
       "  <tbody>\n",
       "    <tr>\n",
       "      <th>count</th>\n",
       "      <td>891.000000</td>\n",
       "      <td>891.000000</td>\n",
       "      <td>891.000000</td>\n",
       "      <td>714.000000</td>\n",
       "      <td>891.000000</td>\n",
       "      <td>891.000000</td>\n",
       "      <td>891.000000</td>\n",
       "    </tr>\n",
       "    <tr>\n",
       "      <th>mean</th>\n",
       "      <td>446.000000</td>\n",
       "      <td>0.383838</td>\n",
       "      <td>2.308642</td>\n",
       "      <td>29.699118</td>\n",
       "      <td>0.523008</td>\n",
       "      <td>0.381594</td>\n",
       "      <td>32.204208</td>\n",
       "    </tr>\n",
       "    <tr>\n",
       "      <th>std</th>\n",
       "      <td>257.353842</td>\n",
       "      <td>0.486592</td>\n",
       "      <td>0.836071</td>\n",
       "      <td>14.526497</td>\n",
       "      <td>1.102743</td>\n",
       "      <td>0.806057</td>\n",
       "      <td>49.693429</td>\n",
       "    </tr>\n",
       "    <tr>\n",
       "      <th>min</th>\n",
       "      <td>1.000000</td>\n",
       "      <td>0.000000</td>\n",
       "      <td>1.000000</td>\n",
       "      <td>0.420000</td>\n",
       "      <td>0.000000</td>\n",
       "      <td>0.000000</td>\n",
       "      <td>0.000000</td>\n",
       "    </tr>\n",
       "    <tr>\n",
       "      <th>25%</th>\n",
       "      <td>223.500000</td>\n",
       "      <td>0.000000</td>\n",
       "      <td>2.000000</td>\n",
       "      <td>20.125000</td>\n",
       "      <td>0.000000</td>\n",
       "      <td>0.000000</td>\n",
       "      <td>7.910400</td>\n",
       "    </tr>\n",
       "    <tr>\n",
       "      <th>50%</th>\n",
       "      <td>446.000000</td>\n",
       "      <td>0.000000</td>\n",
       "      <td>3.000000</td>\n",
       "      <td>28.000000</td>\n",
       "      <td>0.000000</td>\n",
       "      <td>0.000000</td>\n",
       "      <td>14.454200</td>\n",
       "    </tr>\n",
       "    <tr>\n",
       "      <th>75%</th>\n",
       "      <td>668.500000</td>\n",
       "      <td>1.000000</td>\n",
       "      <td>3.000000</td>\n",
       "      <td>38.000000</td>\n",
       "      <td>1.000000</td>\n",
       "      <td>0.000000</td>\n",
       "      <td>31.000000</td>\n",
       "    </tr>\n",
       "    <tr>\n",
       "      <th>max</th>\n",
       "      <td>891.000000</td>\n",
       "      <td>1.000000</td>\n",
       "      <td>3.000000</td>\n",
       "      <td>80.000000</td>\n",
       "      <td>8.000000</td>\n",
       "      <td>6.000000</td>\n",
       "      <td>512.329200</td>\n",
       "    </tr>\n",
       "  </tbody>\n",
       "</table>\n",
       "</div>"
      ],
      "text/plain": [
       "       PassengerId    Survived      Pclass         Age       SibSp  \\\n",
       "count   891.000000  891.000000  891.000000  714.000000  891.000000   \n",
       "mean    446.000000    0.383838    2.308642   29.699118    0.523008   \n",
       "std     257.353842    0.486592    0.836071   14.526497    1.102743   \n",
       "min       1.000000    0.000000    1.000000    0.420000    0.000000   \n",
       "25%     223.500000    0.000000    2.000000   20.125000    0.000000   \n",
       "50%     446.000000    0.000000    3.000000   28.000000    0.000000   \n",
       "75%     668.500000    1.000000    3.000000   38.000000    1.000000   \n",
       "max     891.000000    1.000000    3.000000   80.000000    8.000000   \n",
       "\n",
       "            Parch        Fare  \n",
       "count  891.000000  891.000000  \n",
       "mean     0.381594   32.204208  \n",
       "std      0.806057   49.693429  \n",
       "min      0.000000    0.000000  \n",
       "25%      0.000000    7.910400  \n",
       "50%      0.000000   14.454200  \n",
       "75%      0.000000   31.000000  \n",
       "max      6.000000  512.329200  "
      ]
     },
     "execution_count": 11,
     "metadata": {},
     "output_type": "execute_result"
    }
   ],
   "source": [
    "train.describe()"
   ]
  },
  {
   "cell_type": "code",
   "execution_count": 12,
   "id": "minimal-output",
   "metadata": {},
   "outputs": [
    {
     "data": {
      "text/plain": [
       "0    61.62\n",
       "1    38.38\n",
       "Name: Survived, dtype: float64"
      ]
     },
     "execution_count": 12,
     "metadata": {},
     "output_type": "execute_result"
    }
   ],
   "source": [
    "round(100*train['Survived'].value_counts(normalize=True), 2)"
   ]
  },
  {
   "cell_type": "markdown",
   "id": "failing-silver",
   "metadata": {},
   "source": [
    "Классы хоть и не совсем сбалансированы, но это не критично."
   ]
  },
  {
   "cell_type": "markdown",
   "id": "civilian-recruitment",
   "metadata": {},
   "source": [
    "# Предобработка"
   ]
  },
  {
   "cell_type": "markdown",
   "id": "collaborative-storm",
   "metadata": {},
   "source": [
    "## Замена пропущенных значений"
   ]
  },
  {
   "cell_type": "code",
   "execution_count": 13,
   "id": "permanent-highway",
   "metadata": {},
   "outputs": [
    {
     "data": {
      "image/png": "[encoded data removed]",
      "text/plain": [
       "<Figure size 1008x576 with 2 Axes>"
      ]
     },
     "metadata": {
      "needs_background": "light"
     },
     "output_type": "display_data"
    }
   ],
   "source": [
    "# Визуализируем пропущенные значения\n",
    "\n",
    "plt.figure(figsize=(14, 8))\n",
    "sns.heatmap(train.isnull(), cmap='binary_r');"
   ]
  },
  {
   "cell_type": "code",
   "execution_count": 14,
   "id": "adjusted-stations",
   "metadata": {},
   "outputs": [
    {
     "data": {
      "image/png": "[encoded data removed]",
      "text/plain": [
       "<Figure size 1008x576 with 2 Axes>"
      ]
     },
     "metadata": {
      "needs_background": "light"
     },
     "output_type": "display_data"
    }
   ],
   "source": [
    "# Корреляции\n",
    "\n",
    "plt.figure(figsize=(14, 8))\n",
    "sns.heatmap(train.corr(),\n",
    "                annot=True, \n",
    "                cmap = \"coolwarm\");"
   ]
  },
  {
   "cell_type": "markdown",
   "id": "chronic-entity",
   "metadata": {},
   "source": [
    "## Предобработка средствами Sklearn"
   ]
  },
  {
   "cell_type": "code",
   "execution_count": 15,
   "id": "trying-astrology",
   "metadata": {},
   "outputs": [],
   "source": [
    "from sklearn.impute import KNNImputer\n",
    "from sklearn.preprocessing import OneHotEncoder\n",
    "from sklearn.preprocessing import LabelEncoder\n",
    "from sklearn.compose import ColumnTransformer\n",
    "from sklearn.compose import make_column_transformer\n",
    "from sklearn.pipeline import Pipeline\n",
    "from sklearn.pipeline import make_pipeline\n",
    "\n",
    "from sklearn.preprocessing import FunctionTransformer\n",
    "from sklearn.impute import SimpleImputer\n",
    "from sklearn.feature_extraction.text import CountVectorizer\n",
    "from sklearn.base import BaseEstimator\n",
    "from sklearn.base import TransformerMixin\n",
    "from sklearn.pipeline import FeatureUnion\n",
    "\n",
    "from sklearn.linear_model import LogisticRegression\n",
    "from sklearn.neighbors import KNeighborsClassifier\n",
    "from sklearn.tree import DecisionTreeClassifier\n",
    "from sklearn.ensemble import RandomForestClassifier\n",
    "from sklearn.svm import SVC\n",
    "\n",
    "from sklearn.model_selection import GridSearchCV, cross_val_score, RepeatedStratifiedKFold, RandomizedSearchCV\n",
    "from sklearn.preprocessing import StandardScaler\n",
    "from sklearn.metrics import accuracy_score"
   ]
  },
  {
   "cell_type": "code",
   "execution_count": 16,
   "id": "banner-density",
   "metadata": {},
   "outputs": [],
   "source": [
    "X_train = train.drop(columns='Survived')\n",
    "y_train = train['Survived']\n",
    "X_test = test\n",
    "y_test = submission['Survived']"
   ]
  },
  {
   "cell_type": "code",
   "execution_count": 17,
   "id": "durable-associate",
   "metadata": {},
   "outputs": [
    {
     "data": {
      "text/plain": [
       "PassengerId      int64\n",
       "Pclass           int64\n",
       "Name            object\n",
       "Sex             object\n",
       "Age            float64\n",
       "SibSp            int64\n",
       "Parch            int64\n",
       "Ticket          object\n",
       "Fare           float64\n",
       "Cabin           object\n",
       "Embarked        object\n",
       "dtype: object"
      ]
     },
     "execution_count": 17,
     "metadata": {},
     "output_type": "execute_result"
    }
   ],
   "source": [
    "X_train.dtypes"
   ]
  },
  {
   "cell_type": "code",
   "execution_count": 18,
   "id": "dangerous-protection",
   "metadata": {},
   "outputs": [],
   "source": [
    "numeric_features = ['Age', 'Fare'] \n",
    "categorical_features = ['Sex', 'Embarked', 'Pclass']\n",
    "name_feature = ['Name']\n",
    "family_features = ['SibSp', 'Parch']"
   ]
  },
  {
   "cell_type": "code",
   "execution_count": 20,
   "id": "distributed-audio",
   "metadata": {},
   "outputs": [],
   "source": [
    "ohe = OneHotEncoder(handle_unknown='ignore', sparse=False)\n",
    "simp = SimpleImputer(strategy='most_frequent')\n",
    "kimp = KNNImputer()\n",
    "scaler = StandardScaler()"
   ]
  },
  {
   "cell_type": "markdown",
   "id": "hundred-atmosphere",
   "metadata": {},
   "source": [
    "### Numeric and Categorical Transformer"
   ]
  },
  {
   "cell_type": "code",
   "execution_count": 21,
   "id": "trained-liberal",
   "metadata": {},
   "outputs": [],
   "source": [
    "num_pipe = Pipeline([\n",
    "    ('imputer', kimp),\n",
    "    ('scaler', scaler)\n",
    "])\n",
    "\n",
    "cat_pipe = Pipeline([\n",
    "    ('imputer', simp),\n",
    "    ('onehot', ohe)\n",
    "])"
   ]
  },
  {
   "cell_type": "markdown",
   "id": "western-smell",
   "metadata": {},
   "source": [
    "### Custom Transformers"
   ]
  },
  {
   "cell_type": "code",
   "execution_count": 22,
   "id": "entire-partner",
   "metadata": {
    "code_folding": []
   },
   "outputs": [],
   "source": [
    "class TitleExtractor(BaseEstimator, TransformerMixin):\n",
    "    \n",
    "    def __init__(self):\n",
    "        pass\n",
    "        \n",
    "    def fit(self, X, y=None):\n",
    "        return self   \n",
    "    \n",
    "    def transform(self, X):\n",
    "        Title_Dictionary = {\n",
    "                \"Capt\": \"Officer\", \"Col\": \"Officer\", \"Major\": \"Officer\",\"Jonkheer\": \"Royalty\",\n",
    "                \"Don\": \"Royalty\",\"Sir\" : \"Royalty\",\"Dr\": \"Officer\",\"Rev\": \"Officer\",\"the Countess\":\"Royalty\",\n",
    "                \"Mme\": \"Mrs\", \"Mlle\": \"Miss\", \"Ms\": \"Mrs\", \"Mr\" : \"Mr\", \"Mrs\" : \"Mrs\", \"Miss\" : \"Miss\",\n",
    "                \"Master\" : \"Master\", \"Lady\" : \"Royalty\"}\n",
    "        \n",
    "        X['Title'] = X['Name'].str.extract(' ([A-Za-z]+)\\.', expand=False).map(Title_Dictionary)\n",
    "        X.drop('Name', axis=1, inplace=True)\n",
    "        \n",
    "#         titles_dummies = pd.get_dummies(X['Title'], prefix='Title')\n",
    "#         X = pd.concat([X, titles_dummies], axis=1)\n",
    "        \n",
    "        titles = ohe.fit_transform(X[['Title']])\n",
    "    \n",
    "        X.drop('Title', axis=1, inplace=True)\n",
    "        \n",
    "        return X.values"
   ]
  },
  {
   "cell_type": "code",
   "execution_count": 23,
   "id": "monetary-papua",
   "metadata": {
    "code_folding": []
   },
   "outputs": [],
   "source": [
    "class FamilySizeCounter(BaseEstimator, TransformerMixin):\n",
    "    \n",
    "    def __init__(self):\n",
    "        pass\n",
    "        \n",
    "    def fit(self, X, y=None):\n",
    "        return self     \n",
    "    \n",
    "    def transform(self, X, y=None):\n",
    "        X['family_size'] = X['SibSp'] + X['Parch'] + 1\n",
    "        X.drop(['SibSp', 'Parch'], axis=1, inplace=True)\n",
    "        \n",
    "        return X.values"
   ]
  },
  {
   "cell_type": "markdown",
   "id": "electronic-right",
   "metadata": {},
   "source": [
    "### Full Pipeline"
   ]
  },
  {
   "cell_type": "code",
   "execution_count": 24,
   "id": "crucial-antenna",
   "metadata": {},
   "outputs": [],
   "source": [
    "transformer = ColumnTransformer([\n",
    "    ('num_preprocessing', num_pipe, numeric_features),\n",
    "    ('cat_preprocessing', cat_pipe, categorical_features),\n",
    "    ('name_preprocessing', TitleExtractor(), name_feature),\n",
    "    ('family_size', FamilySizeCounter(), family_features)\n",
    "])"
   ]
  },
  {
   "cell_type": "code",
   "execution_count": 25,
   "id": "political-antenna",
   "metadata": {},
   "outputs": [],
   "source": [
    "new_X = X_train.copy()\n",
    "new_y = y_train.copy()\n",
    "new_test = X_test.copy()"
   ]
  },
  {
   "cell_type": "code",
   "execution_count": 26,
   "id": "superb-maple",
   "metadata": {},
   "outputs": [
    {
     "data": {
      "text/html": [
       "<div>\n",
       "<style scoped>\n",
       "    .dataframe tbody tr th:only-of-type {\n",
       "        vertical-align: middle;\n",
       "    }\n",
       "\n",
       "    .dataframe tbody tr th {\n",
       "        vertical-align: top;\n",
       "    }\n",
       "\n",
       "    .dataframe thead th {\n",
       "        text-align: right;\n",
       "    }\n",
       "</style>\n",
       "<table border=\"1\" class=\"dataframe\">\n",
       "  <thead>\n",
       "    <tr style=\"text-align: right;\">\n",
       "      <th></th>\n",
       "      <th>0</th>\n",
       "      <th>1</th>\n",
       "      <th>2</th>\n",
       "      <th>3</th>\n",
       "      <th>4</th>\n",
       "      <th>5</th>\n",
       "      <th>6</th>\n",
       "      <th>7</th>\n",
       "      <th>8</th>\n",
       "      <th>9</th>\n",
       "      <th>10</th>\n",
       "    </tr>\n",
       "  </thead>\n",
       "  <tbody>\n",
       "    <tr>\n",
       "      <th>0</th>\n",
       "      <td>-0.572142</td>\n",
       "      <td>-0.502445</td>\n",
       "      <td>0.0</td>\n",
       "      <td>1.0</td>\n",
       "      <td>0.0</td>\n",
       "      <td>0.0</td>\n",
       "      <td>1.0</td>\n",
       "      <td>0.0</td>\n",
       "      <td>0.0</td>\n",
       "      <td>1.0</td>\n",
       "      <td>2.0</td>\n",
       "    </tr>\n",
       "    <tr>\n",
       "      <th>1</th>\n",
       "      <td>0.626331</td>\n",
       "      <td>0.786845</td>\n",
       "      <td>1.0</td>\n",
       "      <td>0.0</td>\n",
       "      <td>1.0</td>\n",
       "      <td>0.0</td>\n",
       "      <td>0.0</td>\n",
       "      <td>1.0</td>\n",
       "      <td>0.0</td>\n",
       "      <td>0.0</td>\n",
       "      <td>2.0</td>\n",
       "    </tr>\n",
       "    <tr>\n",
       "      <th>2</th>\n",
       "      <td>-0.272524</td>\n",
       "      <td>-0.488854</td>\n",
       "      <td>1.0</td>\n",
       "      <td>0.0</td>\n",
       "      <td>0.0</td>\n",
       "      <td>0.0</td>\n",
       "      <td>1.0</td>\n",
       "      <td>0.0</td>\n",
       "      <td>0.0</td>\n",
       "      <td>1.0</td>\n",
       "      <td>1.0</td>\n",
       "    </tr>\n",
       "    <tr>\n",
       "      <th>3</th>\n",
       "      <td>0.401618</td>\n",
       "      <td>0.420730</td>\n",
       "      <td>1.0</td>\n",
       "      <td>0.0</td>\n",
       "      <td>0.0</td>\n",
       "      <td>0.0</td>\n",
       "      <td>1.0</td>\n",
       "      <td>1.0</td>\n",
       "      <td>0.0</td>\n",
       "      <td>0.0</td>\n",
       "      <td>2.0</td>\n",
       "    </tr>\n",
       "    <tr>\n",
       "      <th>4</th>\n",
       "      <td>0.401618</td>\n",
       "      <td>-0.486337</td>\n",
       "      <td>0.0</td>\n",
       "      <td>1.0</td>\n",
       "      <td>0.0</td>\n",
       "      <td>0.0</td>\n",
       "      <td>1.0</td>\n",
       "      <td>0.0</td>\n",
       "      <td>0.0</td>\n",
       "      <td>1.0</td>\n",
       "      <td>1.0</td>\n",
       "    </tr>\n",
       "    <tr>\n",
       "      <th>...</th>\n",
       "      <td>...</td>\n",
       "      <td>...</td>\n",
       "      <td>...</td>\n",
       "      <td>...</td>\n",
       "      <td>...</td>\n",
       "      <td>...</td>\n",
       "      <td>...</td>\n",
       "      <td>...</td>\n",
       "      <td>...</td>\n",
       "      <td>...</td>\n",
       "      <td>...</td>\n",
       "    </tr>\n",
       "    <tr>\n",
       "      <th>886</th>\n",
       "      <td>-0.197619</td>\n",
       "      <td>-0.386671</td>\n",
       "      <td>0.0</td>\n",
       "      <td>1.0</td>\n",
       "      <td>0.0</td>\n",
       "      <td>0.0</td>\n",
       "      <td>1.0</td>\n",
       "      <td>0.0</td>\n",
       "      <td>1.0</td>\n",
       "      <td>0.0</td>\n",
       "      <td>1.0</td>\n",
       "    </tr>\n",
       "    <tr>\n",
       "      <th>887</th>\n",
       "      <td>-0.796856</td>\n",
       "      <td>-0.044381</td>\n",
       "      <td>1.0</td>\n",
       "      <td>0.0</td>\n",
       "      <td>0.0</td>\n",
       "      <td>0.0</td>\n",
       "      <td>1.0</td>\n",
       "      <td>1.0</td>\n",
       "      <td>0.0</td>\n",
       "      <td>0.0</td>\n",
       "      <td>1.0</td>\n",
       "    </tr>\n",
       "    <tr>\n",
       "      <th>888</th>\n",
       "      <td>-0.122715</td>\n",
       "      <td>-0.176263</td>\n",
       "      <td>1.0</td>\n",
       "      <td>0.0</td>\n",
       "      <td>0.0</td>\n",
       "      <td>0.0</td>\n",
       "      <td>1.0</td>\n",
       "      <td>0.0</td>\n",
       "      <td>0.0</td>\n",
       "      <td>1.0</td>\n",
       "      <td>4.0</td>\n",
       "    </tr>\n",
       "    <tr>\n",
       "      <th>889</th>\n",
       "      <td>-0.272524</td>\n",
       "      <td>-0.044381</td>\n",
       "      <td>0.0</td>\n",
       "      <td>1.0</td>\n",
       "      <td>1.0</td>\n",
       "      <td>0.0</td>\n",
       "      <td>0.0</td>\n",
       "      <td>1.0</td>\n",
       "      <td>0.0</td>\n",
       "      <td>0.0</td>\n",
       "      <td>1.0</td>\n",
       "    </tr>\n",
       "    <tr>\n",
       "      <th>890</th>\n",
       "      <td>0.176904</td>\n",
       "      <td>-0.492378</td>\n",
       "      <td>0.0</td>\n",
       "      <td>1.0</td>\n",
       "      <td>0.0</td>\n",
       "      <td>1.0</td>\n",
       "      <td>0.0</td>\n",
       "      <td>0.0</td>\n",
       "      <td>0.0</td>\n",
       "      <td>1.0</td>\n",
       "      <td>1.0</td>\n",
       "    </tr>\n",
       "  </tbody>\n",
       "</table>\n",
       "<p>891 rows × 11 columns</p>\n",
       "</div>"
      ],
      "text/plain": [
       "           0         1    2    3    4    5    6    7    8    9    10\n",
       "0   -0.572142 -0.502445  0.0  1.0  0.0  0.0  1.0  0.0  0.0  1.0  2.0\n",
       "1    0.626331  0.786845  1.0  0.0  1.0  0.0  0.0  1.0  0.0  0.0  2.0\n",
       "2   -0.272524 -0.488854  1.0  0.0  0.0  0.0  1.0  0.0  0.0  1.0  1.0\n",
       "3    0.401618  0.420730  1.0  0.0  0.0  0.0  1.0  1.0  0.0  0.0  2.0\n",
       "4    0.401618 -0.486337  0.0  1.0  0.0  0.0  1.0  0.0  0.0  1.0  1.0\n",
       "..        ...       ...  ...  ...  ...  ...  ...  ...  ...  ...  ...\n",
       "886 -0.197619 -0.386671  0.0  1.0  0.0  0.0  1.0  0.0  1.0  0.0  1.0\n",
       "887 -0.796856 -0.044381  1.0  0.0  0.0  0.0  1.0  1.0  0.0  0.0  1.0\n",
       "888 -0.122715 -0.176263  1.0  0.0  0.0  0.0  1.0  0.0  0.0  1.0  4.0\n",
       "889 -0.272524 -0.044381  0.0  1.0  1.0  0.0  0.0  1.0  0.0  0.0  1.0\n",
       "890  0.176904 -0.492378  0.0  1.0  0.0  1.0  0.0  0.0  0.0  1.0  1.0\n",
       "\n",
       "[891 rows x 11 columns]"
      ]
     },
     "execution_count": 26,
     "metadata": {},
     "output_type": "execute_result"
    }
   ],
   "source": [
    "transformer.fit(new_X, new_y)\n",
    "pd.DataFrame(transformer.transform(new_X))"
   ]
  },
  {
   "attachments": {
    "image.png": {
     "image/png": "[encoded data removed]"
    }
   },
   "cell_type": "markdown",
   "id": "general-superintendent",
   "metadata": {},
   "source": [
    "![image.png](attachment:image.png)"
   ]
  },
  {
   "cell_type": "markdown",
   "id": "marine-carbon",
   "metadata": {},
   "source": [
    "# Модель"
   ]
  },
  {
   "cell_type": "markdown",
   "id": "assisted-candidate",
   "metadata": {},
   "source": [
    "## Строим пайплайн"
   ]
  },
  {
   "cell_type": "code",
   "execution_count": 27,
   "id": "ultimate-slope",
   "metadata": {},
   "outputs": [],
   "source": [
    "model = Pipeline([\n",
    "    ('transformer', transformer),\n",
    "    ('clf', RandomForestClassifier(random_state=42))\n",
    "])"
   ]
  },
  {
   "cell_type": "code",
   "execution_count": 28,
   "id": "necessary-blair",
   "metadata": {},
   "outputs": [
    {
     "data": {
      "text/plain": [
       "Pipeline(steps=[('transformer',\n",
       "                 ColumnTransformer(transformers=[('num_preprocessing',\n",
       "                                                  Pipeline(steps=[('imputer',\n",
       "                                                                   KNNImputer()),\n",
       "                                                                  ('scaler',\n",
       "                                                                   StandardScaler())]),\n",
       "                                                  ['Age', 'Fare']),\n",
       "                                                 ('cat_preprocessing',\n",
       "                                                  Pipeline(steps=[('imputer',\n",
       "                                                                   SimpleImputer(strategy='most_frequent')),\n",
       "                                                                  ('onehot',\n",
       "                                                                   OneHotEncoder(handle_unknown='ignore',\n",
       "                                                                                 sparse=False))]),\n",
       "                                                  ['Sex', 'Embarked',\n",
       "                                                   'Pclass']),\n",
       "                                                 ('name_preprocessing',\n",
       "                                                  TitleExtractor(), ['Name']),\n",
       "                                                 ('family_size',\n",
       "                                                  FamilySizeCounter(),\n",
       "                                                  ['SibSp', 'Parch'])])),\n",
       "                ('clf', RandomForestClassifier(random_state=42))])"
      ]
     },
     "execution_count": 28,
     "metadata": {},
     "output_type": "execute_result"
    }
   ],
   "source": [
    "model.fit(X_train, y_train)"
   ]
  },
  {
   "cell_type": "code",
   "execution_count": 29,
   "id": "verified-gospel",
   "metadata": {},
   "outputs": [],
   "source": [
    "y_pred = model.predict(X_test)"
   ]
  },
  {
   "cell_type": "code",
   "execution_count": 30,
   "id": "marine-angel",
   "metadata": {
    "scrolled": true
   },
   "outputs": [
    {
     "data": {
      "text/plain": [
       "0.8444976076555024"
      ]
     },
     "execution_count": 30,
     "metadata": {},
     "output_type": "execute_result"
    }
   ],
   "source": [
    "accuracy_score(y_test, y_pred)"
   ]
  },
  {
   "cell_type": "code",
   "execution_count": 31,
   "id": "dramatic-there",
   "metadata": {},
   "outputs": [
    {
     "data": {
      "text/plain": [
       "0.8215617349821104"
      ]
     },
     "execution_count": 31,
     "metadata": {},
     "output_type": "execute_result"
    }
   ],
   "source": [
    "# Кросс-валидация всего пайплайна показывает более достоверные scores\n",
    "\n",
    "cross_val_score(model, X_train, y_train, cv=5, scoring='accuracy').mean()"
   ]
  },
  {
   "cell_type": "code",
   "execution_count": 32,
   "id": "disabled-plasma",
   "metadata": {},
   "outputs": [],
   "source": [
    "from sklearn import set_config\n",
    "set_config(display='diagram')"
   ]
  },
  {
   "cell_type": "code",
   "execution_count": 33,
   "id": "registered-airfare",
   "metadata": {},
   "outputs": [
    {
     "data": {
      "text/html": [
       "<style>div.sk-top-container {color: black;background-color: white;}div.sk-toggleable {background-color: white;}label.sk-toggleable__label {cursor: pointer;display: block;width: 100%;margin-bottom: 0;padding: 0.2em 0.3em;box-sizing: border-box;text-align: center;}div.sk-toggleable__content {max-height: 0;max-width: 0;overflow: hidden;text-align: left;background-color: #f0f8ff;}div.sk-toggleable__content pre {margin: 0.2em;color: black;border-radius: 0.25em;background-color: #f0f8ff;}input.sk-toggleable__control:checked~div.sk-toggleable__content {max-height: 200px;max-width: 100%;overflow: auto;}div.sk-estimator input.sk-toggleable__control:checked~label.sk-toggleable__label {background-color: #d4ebff;}div.sk-label input.sk-toggleable__control:checked~label.sk-toggleable__label {background-color: #d4ebff;}input.sk-hidden--visually {border: 0;clip: rect(1px 1px 1px 1px);clip: rect(1px, 1px, 1px, 1px);height: 1px;margin: -1px;overflow: hidden;padding: 0;position: absolute;width: 1px;}div.sk-estimator {font-family: monospace;background-color: #f0f8ff;margin: 0.25em 0.25em;border: 1px dotted black;border-radius: 0.25em;box-sizing: border-box;}div.sk-estimator:hover {background-color: #d4ebff;}div.sk-parallel-item::after {content: \"\";width: 100%;border-bottom: 1px solid gray;flex-grow: 1;}div.sk-label:hover label.sk-toggleable__label {background-color: #d4ebff;}div.sk-serial::before {content: \"\";position: absolute;border-left: 1px solid gray;box-sizing: border-box;top: 2em;bottom: 0;left: 50%;}div.sk-serial {display: flex;flex-direction: column;align-items: center;background-color: white;}div.sk-item {z-index: 1;}div.sk-parallel {display: flex;align-items: stretch;justify-content: center;background-color: white;}div.sk-parallel-item {display: flex;flex-direction: column;position: relative;background-color: white;}div.sk-parallel-item:first-child::after {align-self: flex-end;width: 50%;}div.sk-parallel-item:last-child::after {align-self: flex-start;width: 50%;}div.sk-parallel-item:only-child::after {width: 0;}div.sk-dashed-wrapped {border: 1px dashed gray;margin: 0.2em;box-sizing: border-box;padding-bottom: 0.1em;background-color: white;position: relative;}div.sk-label label {font-family: monospace;font-weight: bold;background-color: white;display: inline-block;line-height: 1.2em;}div.sk-label-container {position: relative;z-index: 2;text-align: center;}div.sk-container {display: inline-block;position: relative;}</style><div class=\"sk-top-container\"><div class=\"sk-container\"><div class=\"sk-item sk-dashed-wrapped\"><div class=\"sk-label-container\"><div class=\"sk-label sk-toggleable\"><input class=\"sk-toggleable__control sk-hidden--visually\" id=\"059c5b54-ef3b-410d-be93-0d6e84bdfad0\" type=\"checkbox\" ><label class=\"sk-toggleable__label\" for=\"059c5b54-ef3b-410d-be93-0d6e84bdfad0\">Pipeline</label><div class=\"sk-toggleable__content\"><pre>Pipeline(steps=[('transformer',\n",
       "                 ColumnTransformer(transformers=[('num_preprocessing',\n",
       "                                                  Pipeline(steps=[('imputer',\n",
       "                                                                   KNNImputer()),\n",
       "                                                                  ('scaler',\n",
       "                                                                   StandardScaler())]),\n",
       "                                                  ['Age', 'Fare']),\n",
       "                                                 ('cat_preprocessing',\n",
       "                                                  Pipeline(steps=[('imputer',\n",
       "                                                                   SimpleImputer(strategy='most_frequent')),\n",
       "                                                                  ('onehot',\n",
       "                                                                   OneHotEncoder(handle_unknown='ignore',\n",
       "                                                                                 sparse=False))]),\n",
       "                                                  ['Sex', 'Embarked',\n",
       "                                                   'Pclass']),\n",
       "                                                 ('name_preprocessing',\n",
       "                                                  TitleExtractor(), ['Name']),\n",
       "                                                 ('family_size',\n",
       "                                                  FamilySizeCounter(),\n",
       "                                                  ['SibSp', 'Parch'])])),\n",
       "                ('clf', RandomForestClassifier(random_state=42))])</pre></div></div></div><div class=\"sk-serial\"><div class=\"sk-item sk-dashed-wrapped\"><div class=\"sk-label-container\"><div class=\"sk-label sk-toggleable\"><input class=\"sk-toggleable__control sk-hidden--visually\" id=\"bc4974af-da19-4e44-a690-d9cee4750b66\" type=\"checkbox\" ><label class=\"sk-toggleable__label\" for=\"bc4974af-da19-4e44-a690-d9cee4750b66\">transformer: ColumnTransformer</label><div class=\"sk-toggleable__content\"><pre>ColumnTransformer(transformers=[('num_preprocessing',\n",
       "                                 Pipeline(steps=[('imputer', KNNImputer()),\n",
       "                                                 ('scaler', StandardScaler())]),\n",
       "                                 ['Age', 'Fare']),\n",
       "                                ('cat_preprocessing',\n",
       "                                 Pipeline(steps=[('imputer',\n",
       "                                                  SimpleImputer(strategy='most_frequent')),\n",
       "                                                 ('onehot',\n",
       "                                                  OneHotEncoder(handle_unknown='ignore',\n",
       "                                                                sparse=False))]),\n",
       "                                 ['Sex', 'Embarked', 'Pclass']),\n",
       "                                ('name_preprocessing', TitleExtractor(),\n",
       "                                 ['Name']),\n",
       "                                ('family_size', FamilySizeCounter(),\n",
       "                                 ['SibSp', 'Parch'])])</pre></div></div></div><div class=\"sk-parallel\"><div class=\"sk-parallel-item\"><div class=\"sk-item\"><div class=\"sk-label-container\"><div class=\"sk-label sk-toggleable\"><input class=\"sk-toggleable__control sk-hidden--visually\" id=\"36c93977-1c2a-4fd2-a713-cddd276197e5\" type=\"checkbox\" ><label class=\"sk-toggleable__label\" for=\"36c93977-1c2a-4fd2-a713-cddd276197e5\">num_preprocessing</label><div class=\"sk-toggleable__content\"><pre>['Age', 'Fare']</pre></div></div></div><div class=\"sk-serial\"><div class=\"sk-item\"><div class=\"sk-serial\"><div class=\"sk-item\"><div class=\"sk-estimator sk-toggleable\"><input class=\"sk-toggleable__control sk-hidden--visually\" id=\"01a88cdb-64d6-44c8-b5c6-6abaaca5c906\" type=\"checkbox\" ><label class=\"sk-toggleable__label\" for=\"01a88cdb-64d6-44c8-b5c6-6abaaca5c906\">KNNImputer</label><div class=\"sk-toggleable__content\"><pre>KNNImputer()</pre></div></div></div><div class=\"sk-item\"><div class=\"sk-estimator sk-toggleable\"><input class=\"sk-toggleable__control sk-hidden--visually\" id=\"09787e59-9620-4568-9bee-22f5c02ddd38\" type=\"checkbox\" ><label class=\"sk-toggleable__label\" for=\"09787e59-9620-4568-9bee-22f5c02ddd38\">StandardScaler</label><div class=\"sk-toggleable__content\"><pre>StandardScaler()</pre></div></div></div></div></div></div></div></div><div class=\"sk-parallel-item\"><div class=\"sk-item\"><div class=\"sk-label-container\"><div class=\"sk-label sk-toggleable\"><input class=\"sk-toggleable__control sk-hidden--visually\" id=\"fc452a38-3d4a-4071-83fd-2e673095e9d8\" type=\"checkbox\" ><label class=\"sk-toggleable__label\" for=\"fc452a38-3d4a-4071-83fd-2e673095e9d8\">cat_preprocessing</label><div class=\"sk-toggleable__content\"><pre>['Sex', 'Embarked', 'Pclass']</pre></div></div></div><div class=\"sk-serial\"><div class=\"sk-item\"><div class=\"sk-serial\"><div class=\"sk-item\"><div class=\"sk-estimator sk-toggleable\"><input class=\"sk-toggleable__control sk-hidden--visually\" id=\"49efae39-e3c7-4634-a7a8-540b380a499e\" type=\"checkbox\" ><label class=\"sk-toggleable__label\" for=\"49efae39-e3c7-4634-a7a8-540b380a499e\">SimpleImputer</label><div class=\"sk-toggleable__content\"><pre>SimpleImputer(strategy='most_frequent')</pre></div></div></div><div class=\"sk-item\"><div class=\"sk-estimator sk-toggleable\"><input class=\"sk-toggleable__control sk-hidden--visually\" id=\"12422616-7886-45e8-90b8-e737efaf063c\" type=\"checkbox\" ><label class=\"sk-toggleable__label\" for=\"12422616-7886-45e8-90b8-e737efaf063c\">OneHotEncoder</label><div class=\"sk-toggleable__content\"><pre>OneHotEncoder(handle_unknown='ignore', sparse=False)</pre></div></div></div></div></div></div></div></div><div class=\"sk-parallel-item\"><div class=\"sk-item\"><div class=\"sk-label-container\"><div class=\"sk-label sk-toggleable\"><input class=\"sk-toggleable__control sk-hidden--visually\" id=\"2b86a4ee-fcb4-4b85-a083-89d364faed5f\" type=\"checkbox\" ><label class=\"sk-toggleable__label\" for=\"2b86a4ee-fcb4-4b85-a083-89d364faed5f\">name_preprocessing</label><div class=\"sk-toggleable__content\"><pre>['Name']</pre></div></div></div><div class=\"sk-serial\"><div class=\"sk-item\"><div class=\"sk-estimator sk-toggleable\"><input class=\"sk-toggleable__control sk-hidden--visually\" id=\"115e0278-3577-41b1-8c67-d1dcd773d125\" type=\"checkbox\" ><label class=\"sk-toggleable__label\" for=\"115e0278-3577-41b1-8c67-d1dcd773d125\">TitleExtractor</label><div class=\"sk-toggleable__content\"><pre>TitleExtractor()</pre></div></div></div></div></div></div><div class=\"sk-parallel-item\"><div class=\"sk-item\"><div class=\"sk-label-container\"><div class=\"sk-label sk-toggleable\"><input class=\"sk-toggleable__control sk-hidden--visually\" id=\"e4fa3198-2186-41ff-80b1-95f3724cceb3\" type=\"checkbox\" ><label class=\"sk-toggleable__label\" for=\"e4fa3198-2186-41ff-80b1-95f3724cceb3\">family_size</label><div class=\"sk-toggleable__content\"><pre>['SibSp', 'Parch']</pre></div></div></div><div class=\"sk-serial\"><div class=\"sk-item\"><div class=\"sk-estimator sk-toggleable\"><input class=\"sk-toggleable__control sk-hidden--visually\" id=\"6f03588a-d200-4ed7-9d24-21a71c9022fb\" type=\"checkbox\" ><label class=\"sk-toggleable__label\" for=\"6f03588a-d200-4ed7-9d24-21a71c9022fb\">FamilySizeCounter</label><div class=\"sk-toggleable__content\"><pre>FamilySizeCounter()</pre></div></div></div></div></div></div></div></div><div class=\"sk-item\"><div class=\"sk-estimator sk-toggleable\"><input class=\"sk-toggleable__control sk-hidden--visually\" id=\"957f92ce-69d0-483c-b87a-65bd920554b9\" type=\"checkbox\" ><label class=\"sk-toggleable__label\" for=\"957f92ce-69d0-483c-b87a-65bd920554b9\">RandomForestClassifier</label><div class=\"sk-toggleable__content\"><pre>RandomForestClassifier(random_state=42)</pre></div></div></div></div></div></div></div>"
      ],
      "text/plain": [
       "Pipeline(steps=[('transformer',\n",
       "                 ColumnTransformer(transformers=[('num_preprocessing',\n",
       "                                                  Pipeline(steps=[('imputer',\n",
       "                                                                   KNNImputer()),\n",
       "                                                                  ('scaler',\n",
       "                                                                   StandardScaler())]),\n",
       "                                                  ['Age', 'Fare']),\n",
       "                                                 ('cat_preprocessing',\n",
       "                                                  Pipeline(steps=[('imputer',\n",
       "                                                                   SimpleImputer(strategy='most_frequent')),\n",
       "                                                                  ('onehot',\n",
       "                                                                   OneHotEncoder(handle_unknown='ignore',\n",
       "                                                                                 sparse=False))]),\n",
       "                                                  ['Sex', 'Embarked',\n",
       "                                                   'Pclass']),\n",
       "                                                 ('name_preprocessing',\n",
       "                                                  TitleExtractor(), ['Name']),\n",
       "                                                 ('family_size',\n",
       "                                                  FamilySizeCounter(),\n",
       "                                                  ['SibSp', 'Parch'])])),\n",
       "                ('clf', RandomForestClassifier(random_state=42))])"
      ]
     },
     "execution_count": 33,
     "metadata": {},
     "output_type": "execute_result"
    }
   ],
   "source": [
    "model"
   ]
  },
  {
   "cell_type": "markdown",
   "id": "considerable-diamond",
   "metadata": {},
   "source": [
    "## Подбираем лучшие параметры пайплайна"
   ]
  },
  {
   "cell_type": "code",
   "execution_count": 34,
   "id": "enclosed-hearts",
   "metadata": {},
   "outputs": [],
   "source": [
    "classifiers = {\n",
    "    \"LogisiticRegression\": LogisticRegression(random_state=42),\n",
    "    \"KNearest\": KNeighborsClassifier(),\n",
    "    \"Support Vector Classifier\": SVC(random_state=42),\n",
    "    \"DecisionTreeClassifier\": DecisionTreeClassifier(random_state=42),\n",
    "    'RandomForest Classifier': RandomForestClassifier(random_state=42)\n",
    "}"
   ]
  },
  {
   "cell_type": "code",
   "execution_count": 35,
   "id": "rolled-mistress",
   "metadata": {
    "code_folding": []
   },
   "outputs": [],
   "source": [
    "# params = {}\n",
    "# params['preprocessor__num__knn_imputer__n_neighbors'] = range(2, 12, 2)\n",
    "# params['preprocessor__num__knn_imputer__weights'] = ['uniform', 'distance']\n",
    "# params['classifier'] = list(classifiers.values())"
   ]
  },
  {
   "cell_type": "code",
   "execution_count": 36,
   "id": "invalid-forum",
   "metadata": {},
   "outputs": [],
   "source": [
    "# model.get_params().keys() позволяет увидеть доступные параметры для тюнинга"
   ]
  },
  {
   "cell_type": "code",
   "execution_count": 37,
   "id": "supreme-community",
   "metadata": {},
   "outputs": [],
   "source": [
    "# model.get_params().keys()"
   ]
  },
  {
   "cell_type": "code",
   "execution_count": 38,
   "id": "korean-majority",
   "metadata": {},
   "outputs": [],
   "source": [
    "params = {}\n",
    "params['clf'] = list(classifiers.values())"
   ]
  },
  {
   "cell_type": "code",
   "execution_count": 39,
   "id": "latest-evening",
   "metadata": {},
   "outputs": [],
   "source": [
    "grid = GridSearchCV(model, params, cv=5, scoring='accuracy', n_jobs=-1)\n",
    "grid.fit(X_train, y_train);"
   ]
  },
  {
   "cell_type": "code",
   "execution_count": 40,
   "id": "german-genealogy",
   "metadata": {},
   "outputs": [
    {
     "data": {
      "text/plain": [
       "0.8260372857949909"
      ]
     },
     "execution_count": 40,
     "metadata": {},
     "output_type": "execute_result"
    }
   ],
   "source": [
    "grid.best_score_"
   ]
  },
  {
   "cell_type": "code",
   "execution_count": 41,
   "id": "selective-retail",
   "metadata": {},
   "outputs": [
    {
     "data": {
      "text/plain": [
       "{'clf': SVC(random_state=42)}"
      ]
     },
     "execution_count": 41,
     "metadata": {},
     "output_type": "execute_result"
    }
   ],
   "source": [
    "grid.best_params_"
   ]
  },
  {
   "cell_type": "code",
   "execution_count": 42,
   "id": "victorian-million",
   "metadata": {},
   "outputs": [],
   "source": [
    "best_classifiers = pd.DataFrame(grid.cv_results_)[['params', 'mean_test_score', 'rank_test_score']]\\\n",
    "        .sort_values(by='rank_test_score').set_index('rank_test_score')\n",
    "best_classifiers['params'] = best_classifiers['params'].apply(lambda s: re.search(': (.+?)\\(', str(s)).group(1))"
   ]
  },
  {
   "cell_type": "code",
   "execution_count": 43,
   "id": "organizational-purple",
   "metadata": {},
   "outputs": [
    {
     "data": {
      "text/html": [
       "<div>\n",
       "<style scoped>\n",
       "    .dataframe tbody tr th:only-of-type {\n",
       "        vertical-align: middle;\n",
       "    }\n",
       "\n",
       "    .dataframe tbody tr th {\n",
       "        vertical-align: top;\n",
       "    }\n",
       "\n",
       "    .dataframe thead th {\n",
       "        text-align: right;\n",
       "    }\n",
       "</style>\n",
       "<table border=\"1\" class=\"dataframe\">\n",
       "  <thead>\n",
       "    <tr style=\"text-align: right;\">\n",
       "      <th></th>\n",
       "      <th>mean_test_score</th>\n",
       "    </tr>\n",
       "    <tr>\n",
       "      <th>params</th>\n",
       "      <th></th>\n",
       "    </tr>\n",
       "  </thead>\n",
       "  <tbody>\n",
       "    <tr>\n",
       "      <th>SVC</th>\n",
       "      <td>0.826037</td>\n",
       "    </tr>\n",
       "    <tr>\n",
       "      <th>RandomForestClassifier</th>\n",
       "      <td>0.821562</td>\n",
       "    </tr>\n",
       "    <tr>\n",
       "      <th>LogisticRegression</th>\n",
       "      <td>0.794646</td>\n",
       "    </tr>\n",
       "    <tr>\n",
       "      <th>KNeighborsClassifier</th>\n",
       "      <td>0.793535</td>\n",
       "    </tr>\n",
       "    <tr>\n",
       "      <th>DecisionTreeClassifier</th>\n",
       "      <td>0.782299</td>\n",
       "    </tr>\n",
       "  </tbody>\n",
       "</table>\n",
       "</div>"
      ],
      "text/plain": [
       "                        mean_test_score\n",
       "params                                 \n",
       "SVC                            0.826037\n",
       "RandomForestClassifier         0.821562\n",
       "LogisticRegression             0.794646\n",
       "KNeighborsClassifier           0.793535\n",
       "DecisionTreeClassifier         0.782299"
      ]
     },
     "execution_count": 43,
     "metadata": {},
     "output_type": "execute_result"
    }
   ],
   "source": [
    "best_classifiers = best_classifiers.groupby('params').max().sort_values(by='mean_test_score', ascending=False)\n",
    "best_classifiers"
   ]
  },
  {
   "cell_type": "code",
   "execution_count": 44,
   "id": "synthetic-dakota",
   "metadata": {},
   "outputs": [
    {
     "data": {
      "text/plain": [
       "Index(['SVC', 'RandomForestClassifier', 'LogisticRegression',\n",
       "       'KNeighborsClassifier', 'DecisionTreeClassifier'],\n",
       "      dtype='object', name='params')"
      ]
     },
     "execution_count": 44,
     "metadata": {},
     "output_type": "execute_result"
    }
   ],
   "source": [
    "best_classifiers.index"
   ]
  },
  {
   "cell_type": "code",
   "execution_count": 45,
   "id": "collaborative-saturn",
   "metadata": {
    "scrolled": false
   },
   "outputs": [
    {
     "data": {
      "image/png": "[encoded data removed]",
      "text/plain": [
       "<Figure size 720x432 with 1 Axes>"
      ]
     },
     "metadata": {
      "needs_background": "light"
     },
     "output_type": "display_data"
    }
   ],
   "source": [
    "plt.figure(figsize=(10, 6))\n",
    "sns.barplot(data=best_classifiers, x=best_classifiers.index, y='mean_test_score', ec='k', palette='winter')\n",
    "plt.xticks(rotation=30)\n",
    "plt.title('Результаты различных классификаторов')\n",
    "plt.legend(labels=(round(best_classifiers['mean_test_score'], 3)));"
   ]
  },
  {
   "cell_type": "markdown",
   "id": "colored-honduras",
   "metadata": {},
   "source": [
    "**SVC** показывает лучшие результаты, **RandomForestClassifier** стоит на 2 месте. Имеет смысл подобрать именно для них лучшие параметры."
   ]
  },
  {
   "cell_type": "markdown",
   "id": "stainless-guitar",
   "metadata": {},
   "source": [
    "### Лучшие параметры SVC"
   ]
  },
  {
   "cell_type": "code",
   "execution_count": 49,
   "id": "immune-madrid",
   "metadata": {},
   "outputs": [],
   "source": [
    "svc_clf = Pipeline(steps=[('preprocessor', transformer),\n",
    "                      ('classifier', SVC(random_state=42))])"
   ]
  },
  {
   "cell_type": "code",
   "execution_count": 50,
   "id": "demonstrated-radiation",
   "metadata": {},
   "outputs": [],
   "source": [
    "# list(svc_clf.get_params().keys())"
   ]
  },
  {
   "cell_type": "code",
   "execution_count": 51,
   "id": "assigned-casino",
   "metadata": {},
   "outputs": [],
   "source": [
    "svc_params = {}\n",
    "svc_params['classifier__kernel'] = ['linear', 'rbf', 'poly']\n",
    "svc_params['classifier__gamma'] = [0.01, 0.1, 1, 10]\n",
    "svc_params['classifier__C'] = [0.01, 0.1, 1, 10]"
   ]
  },
  {
   "cell_type": "code",
   "execution_count": 52,
   "id": "senior-converter",
   "metadata": {},
   "outputs": [],
   "source": [
    "import time"
   ]
  },
  {
   "cell_type": "code",
   "execution_count": 53,
   "id": "religious-lightning",
   "metadata": {},
   "outputs": [
    {
     "name": "stdout",
     "output_type": "stream",
     "text": [
      "6.020278215408325\n"
     ]
    }
   ],
   "source": [
    "t0 = time.time()\n",
    "svc_search = RandomizedSearchCV(svc_clf, svc_params, cv=5, scoring='accuracy')\n",
    "svc_search.fit(X_train, y_train);\n",
    "t1 = time.time()\n",
    "print(t1-t0)"
   ]
  },
  {
   "cell_type": "code",
   "execution_count": 54,
   "id": "compound-screw",
   "metadata": {},
   "outputs": [
    {
     "data": {
      "text/plain": [
       "0.8260372857949909"
      ]
     },
     "execution_count": 54,
     "metadata": {},
     "output_type": "execute_result"
    }
   ],
   "source": [
    "svc_search.best_score_"
   ]
  },
  {
   "cell_type": "code",
   "execution_count": 55,
   "id": "pacific-capture",
   "metadata": {},
   "outputs": [
    {
     "data": {
      "text/plain": [
       "{'classifier__kernel': 'rbf', 'classifier__gamma': 0.1, 'classifier__C': 1}"
      ]
     },
     "execution_count": 55,
     "metadata": {},
     "output_type": "execute_result"
    }
   ],
   "source": [
    "svc_search.best_params_"
   ]
  },
  {
   "cell_type": "markdown",
   "id": "combined-market",
   "metadata": {},
   "source": [
    "### Лучшие параметры RandomForest"
   ]
  },
  {
   "cell_type": "code",
   "execution_count": 56,
   "id": "competitive-comment",
   "metadata": {},
   "outputs": [],
   "source": [
    "rf_clf = Pipeline(steps=[('preprocessor', transformer),\n",
    "                      ('classifier', RandomForestClassifier(random_state=42))])"
   ]
  },
  {
   "cell_type": "code",
   "execution_count": 57,
   "id": "twelve-terrace",
   "metadata": {
    "scrolled": true
   },
   "outputs": [],
   "source": [
    "# list(rf_clf.get_params().keys())"
   ]
  },
  {
   "cell_type": "code",
   "execution_count": 58,
   "id": "magnetic-walter",
   "metadata": {},
   "outputs": [],
   "source": [
    "rf_params = {}\n",
    "rf_params['classifier__n_estimators'] = range(10, 110, 10)\n",
    "rf_params['classifier__max_depth'] = range(1, 20)\n",
    "rf_params['classifier__min_samples_split'] = range(1, 20)"
   ]
  },
  {
   "cell_type": "code",
   "execution_count": 59,
   "id": "unable-disposition",
   "metadata": {},
   "outputs": [
    {
     "name": "stdout",
     "output_type": "stream",
     "text": [
      "11.58828067779541\n"
     ]
    }
   ],
   "source": [
    "t0 = time.time()\n",
    "rf_search = RandomizedSearchCV(rf_clf, rf_params, cv=5, scoring='accuracy')\n",
    "rf_search.fit(X_train, y_train);\n",
    "t1 = time.time()\n",
    "print(t1-t0)"
   ]
  },
  {
   "cell_type": "code",
   "execution_count": 60,
   "id": "higher-nylon",
   "metadata": {},
   "outputs": [
    {
     "data": {
      "text/plain": [
       "0.8350386039796623"
      ]
     },
     "execution_count": 60,
     "metadata": {},
     "output_type": "execute_result"
    }
   ],
   "source": [
    "rf_search.best_score_"
   ]
  },
  {
   "cell_type": "code",
   "execution_count": 64,
   "id": "automatic-master",
   "metadata": {},
   "outputs": [
    {
     "data": {
      "text/plain": [
       "{'classifier__n_estimators': 50,\n",
       " 'classifier__min_samples_split': 7,\n",
       " 'classifier__max_depth': 8}"
      ]
     },
     "execution_count": 64,
     "metadata": {},
     "output_type": "execute_result"
    }
   ],
   "source": [
    "good_rf_params = rf_search.best_params_\n",
    "good_rf_params"
   ]
  },
  {
   "cell_type": "markdown",
   "id": "external-physics",
   "metadata": {},
   "source": [
    "При данных параметрах точность случайного леса становится даже выше, чем у SVC. Показатель score составляет 0.835"
   ]
  }
 ],
 "metadata": {
  "kernelspec": {
   "display_name": "Python 3",
   "language": "python",
   "name": "python3"
  },
  "language_info": {
   "codemirror_mode": {
    "name": "ipython",
    "version": 3
   },
   "file_extension": ".py",
   "mimetype": "text/x-python",
   "name": "python",
   "nbconvert_exporter": "python",
   "pygments_lexer": "ipython3",
   "version": "3.9.1"
  },
  "toc": {
   "base_numbering": 1,
   "nav_menu": {},
   "number_sections": true,
   "sideBar": true,
   "skip_h1_title": false,
   "title_cell": "Table of Contents",
   "title_sidebar": "Contents",
   "toc_cell": false,
   "toc_position": {},
   "toc_section_display": true,
   "toc_window_display": false
  }
 },
 "nbformat": 4,
 "nbformat_minor": 5
}
